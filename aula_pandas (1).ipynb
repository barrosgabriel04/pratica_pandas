{
 "cells": [
  {
   "cell_type": "code",
   "execution_count": 1,
   "id": "ff7c6bed",
   "metadata": {},
   "outputs": [],
   "source": [
    "# impotando tudo da biblioteca, usando \"as\" para apelidar a biblioteca\n",
    "import pandas as pd\n",
    "\n",
    "# importando um recurso especifico da biblioteca \n",
    "from pandas import Series, DataFrame\n",
    "\n",
    "# importando outra biblioteca\n",
    "import numpy as np"
   ]
  },
  {
   "cell_type": "markdown",
   "id": "42f67b34",
   "metadata": {},
   "source": [
    "### Criar dados para teste de seleção"
   ]
  },
  {
   "cell_type": "code",
   "execution_count": 3,
   "id": "ee422967",
   "metadata": {},
   "outputs": [
    {
     "data": {
      "text/plain": [
       "array([0, 1, 2, 3, 4, 5, 6, 7, 8, 9])"
      ]
     },
     "execution_count": 3,
     "metadata": {},
     "output_type": "execute_result"
    }
   ],
   "source": [
    "dados = np.arange(10)\n",
    "dados"
   ]
  },
  {
   "cell_type": "code",
   "execution_count": 4,
   "id": "d6439587",
   "metadata": {},
   "outputs": [
    {
     "data": {
      "text/plain": [
       "array([[0, 1, 2, 3, 4],\n",
       "       [5, 6, 7, 8, 9]])"
      ]
     },
     "execution_count": 4,
     "metadata": {},
     "output_type": "execute_result"
    }
   ],
   "source": [
    "# posicionando os dados em colunas e linhas\n",
    "dados = np.arange(10)\n",
    "dados.reshape(2,5)"
   ]
  },
  {
   "cell_type": "markdown",
   "id": "f67b7628",
   "metadata": {},
   "source": [
    "#### indexando nome aos dados e facilitando a busca"
   ]
  },
  {
   "cell_type": "code",
   "execution_count": 5,
   "id": "256058c3",
   "metadata": {},
   "outputs": [],
   "source": [
    "indices = ['l1','l2','l3','l4','l5','l6','l7','l8','l9','l10']"
   ]
  },
  {
   "cell_type": "code",
   "execution_count": 6,
   "id": "3bf9a270",
   "metadata": {},
   "outputs": [
    {
     "data": {
      "text/plain": [
       "array([0, 1, 2, 3, 4, 5, 6, 7, 8, 9])"
      ]
     },
     "execution_count": 6,
     "metadata": {},
     "output_type": "execute_result"
    }
   ],
   "source": [
    "dados"
   ]
  },
  {
   "cell_type": "code",
   "execution_count": 7,
   "id": "62df0939",
   "metadata": {},
   "outputs": [],
   "source": [
    "serie = pd.Series(dados, index=indices)"
   ]
  },
  {
   "cell_type": "code",
   "execution_count": 8,
   "id": "de678372",
   "metadata": {},
   "outputs": [
    {
     "data": {
      "text/plain": [
       "l1     0\n",
       "l2     1\n",
       "l3     2\n",
       "l4     3\n",
       "l5     4\n",
       "l6     5\n",
       "l7     6\n",
       "l8     7\n",
       "l9     8\n",
       "l10    9\n",
       "dtype: int32"
      ]
     },
     "execution_count": 8,
     "metadata": {},
     "output_type": "execute_result"
    }
   ],
   "source": [
    "serie"
   ]
  },
  {
   "cell_type": "code",
   "execution_count": 9,
   "id": "1f7fe5db",
   "metadata": {},
   "outputs": [
    {
     "data": {
      "text/plain": [
       "7"
      ]
     },
     "execution_count": 9,
     "metadata": {},
     "output_type": "execute_result"
    }
   ],
   "source": [
    "serie['l8']"
   ]
  },
  {
   "cell_type": "code",
   "execution_count": 11,
   "id": "20c59225",
   "metadata": {},
   "outputs": [
    {
     "data": {
      "text/plain": [
       "array([[0.31990216, 0.47073395, 0.17464854, 0.52937127, 0.82791737],\n",
       "       [0.92550993, 0.04332637, 0.58998028, 0.5033752 , 0.59437685],\n",
       "       [0.38067057, 0.23459856, 0.69869547, 0.31993697, 0.62337356],\n",
       "       [0.83102965, 0.88661269, 0.93698346, 0.55752968, 0.65811553],\n",
       "       [0.59418535, 0.20561046, 0.78018995, 0.10560784, 0.93597368]])"
      ]
     },
     "execution_count": 11,
     "metadata": {},
     "output_type": "execute_result"
    }
   ],
   "source": [
    "# criando com numeros aleatorios um conjunto a ser definido como semente \n",
    "np.random.seed(None)\n",
    "numAleatorios = np.random.rand(25).reshape(5,5)\n",
    "numAleatorios"
   ]
  },
  {
   "cell_type": "code",
   "execution_count": 12,
   "id": "9eb5f37c",
   "metadata": {},
   "outputs": [],
   "source": [
    "# indexando nomes as colunas e a linhas facilinatndo a localização do futuro DataFrame\n",
    "linhas = ['l1','l2','l3','l4','l5']\n",
    "colunas = ['c1','c2','c3','c4','c5']"
   ]
  },
  {
   "cell_type": "code",
   "execution_count": 14,
   "id": "7432d45d",
   "metadata": {},
   "outputs": [],
   "source": [
    "# estabelecendo uma tabela com linhas e colunas usando DataFrame\n",
    "tabela = pd.DataFrame(numAleatorios, index=linhas, columns=colunas)"
   ]
  },
  {
   "cell_type": "code",
   "execution_count": 15,
   "id": "e18ce370",
   "metadata": {},
   "outputs": [
    {
     "data": {
      "text/html": [
       "<div>\n",
       "<style scoped>\n",
       "    .dataframe tbody tr th:only-of-type {\n",
       "        vertical-align: middle;\n",
       "    }\n",
       "\n",
       "    .dataframe tbody tr th {\n",
       "        vertical-align: top;\n",
       "    }\n",
       "\n",
       "    .dataframe thead th {\n",
       "        text-align: right;\n",
       "    }\n",
       "</style>\n",
       "<table border=\"1\" class=\"dataframe\">\n",
       "  <thead>\n",
       "    <tr style=\"text-align: right;\">\n",
       "      <th></th>\n",
       "      <th>c1</th>\n",
       "      <th>c2</th>\n",
       "      <th>c3</th>\n",
       "      <th>c4</th>\n",
       "      <th>c5</th>\n",
       "    </tr>\n",
       "  </thead>\n",
       "  <tbody>\n",
       "    <tr>\n",
       "      <th>l1</th>\n",
       "      <td>0.319902</td>\n",
       "      <td>0.470734</td>\n",
       "      <td>0.174649</td>\n",
       "      <td>0.529371</td>\n",
       "      <td>0.827917</td>\n",
       "    </tr>\n",
       "    <tr>\n",
       "      <th>l2</th>\n",
       "      <td>0.925510</td>\n",
       "      <td>0.043326</td>\n",
       "      <td>0.589980</td>\n",
       "      <td>0.503375</td>\n",
       "      <td>0.594377</td>\n",
       "    </tr>\n",
       "    <tr>\n",
       "      <th>l3</th>\n",
       "      <td>0.380671</td>\n",
       "      <td>0.234599</td>\n",
       "      <td>0.698695</td>\n",
       "      <td>0.319937</td>\n",
       "      <td>0.623374</td>\n",
       "    </tr>\n",
       "    <tr>\n",
       "      <th>l4</th>\n",
       "      <td>0.831030</td>\n",
       "      <td>0.886613</td>\n",
       "      <td>0.936983</td>\n",
       "      <td>0.557530</td>\n",
       "      <td>0.658116</td>\n",
       "    </tr>\n",
       "    <tr>\n",
       "      <th>l5</th>\n",
       "      <td>0.594185</td>\n",
       "      <td>0.205610</td>\n",
       "      <td>0.780190</td>\n",
       "      <td>0.105608</td>\n",
       "      <td>0.935974</td>\n",
       "    </tr>\n",
       "  </tbody>\n",
       "</table>\n",
       "</div>"
      ],
      "text/plain": [
       "          c1        c2        c3        c4        c5\n",
       "l1  0.319902  0.470734  0.174649  0.529371  0.827917\n",
       "l2  0.925510  0.043326  0.589980  0.503375  0.594377\n",
       "l3  0.380671  0.234599  0.698695  0.319937  0.623374\n",
       "l4  0.831030  0.886613  0.936983  0.557530  0.658116\n",
       "l5  0.594185  0.205610  0.780190  0.105608  0.935974"
      ]
     },
     "execution_count": 15,
     "metadata": {},
     "output_type": "execute_result"
    }
   ],
   "source": [
    "tabela"
   ]
  },
  {
   "cell_type": "code",
   "execution_count": 19,
   "id": "83491b0c",
   "metadata": {
    "scrolled": false
   },
   "outputs": [
    {
     "data": {
      "text/html": [
       "<div>\n",
       "<style scoped>\n",
       "    .dataframe tbody tr th:only-of-type {\n",
       "        vertical-align: middle;\n",
       "    }\n",
       "\n",
       "    .dataframe tbody tr th {\n",
       "        vertical-align: top;\n",
       "    }\n",
       "\n",
       "    .dataframe thead th {\n",
       "        text-align: right;\n",
       "    }\n",
       "</style>\n",
       "<table border=\"1\" class=\"dataframe\">\n",
       "  <thead>\n",
       "    <tr style=\"text-align: right;\">\n",
       "      <th></th>\n",
       "      <th>c2</th>\n",
       "      <th>c3</th>\n",
       "    </tr>\n",
       "  </thead>\n",
       "  <tbody>\n",
       "    <tr>\n",
       "      <th>l3</th>\n",
       "      <td>0.234599</td>\n",
       "      <td>0.698695</td>\n",
       "    </tr>\n",
       "    <tr>\n",
       "      <th>l4</th>\n",
       "      <td>0.886613</td>\n",
       "      <td>0.936983</td>\n",
       "    </tr>\n",
       "  </tbody>\n",
       "</table>\n",
       "</div>"
      ],
      "text/plain": [
       "          c2        c3\n",
       "l3  0.234599  0.698695\n",
       "l4  0.886613  0.936983"
      ]
     },
     "execution_count": 19,
     "metadata": {},
     "output_type": "execute_result"
    }
   ],
   "source": [
    "# extraindo dados especificos de uma tabela\n",
    "tabela2 = tabela.loc[['l3','l4'],['c2','c3']]\n",
    "tabela2"
   ]
  },
  {
   "cell_type": "markdown",
   "id": "490d598c",
   "metadata": {},
   "source": [
    "### Exercicios"
   ]
  },
  {
   "cell_type": "code",
   "execution_count": 24,
   "id": "3836abbc",
   "metadata": {},
   "outputs": [],
   "source": [
    "# criando o conjunto e exibindo em serie \n",
    "temperaturas = [37.5, 38.0, 37.8, 38.5, 37.0, 38.2, 38.8, 37.6, 37.0]\n",
    "serie = pd.Series(temperaturas)"
   ]
  },
  {
   "cell_type": "code",
   "execution_count": 25,
   "id": "354fec27",
   "metadata": {},
   "outputs": [],
   "source": [
    "media = serie.mean()\n",
    "mediana = serie.median()\n",
    "variancia = serie.var()\n",
    "desvio = serie.std()"
   ]
  },
  {
   "cell_type": "code",
   "execution_count": 26,
   "id": "0250f8a1",
   "metadata": {},
   "outputs": [
    {
     "name": "stdout",
     "output_type": "stream",
     "text": [
      "Media 37.8\n"
     ]
    }
   ],
   "source": [
    "# especificando quantidade de casas decimais e definindo que será de forma arredondada, podendo também utilizar outros metodos para definir\n",
    "print('Media', round(media,1))"
   ]
  },
  {
   "cell_type": "code",
   "execution_count": 27,
   "id": "b83d8301",
   "metadata": {},
   "outputs": [],
   "source": [
    "notas = [8.0, 9.0, 9.5, 6.0, 4.5, 4.0, 10.0, 10.0, 8.5, 8.0, 8.0, 8.0]\n",
    "serie2 = pd.Series(notas)"
   ]
  },
  {
   "cell_type": "code",
   "execution_count": 33,
   "id": "2ca99188",
   "metadata": {},
   "outputs": [
    {
     "name": "stdout",
     "output_type": "stream",
     "text": [
      "7.8\n"
     ]
    }
   ],
   "source": [
    "media2 = serie2.mean()\n",
    "print(round(media2,1))"
   ]
  },
  {
   "cell_type": "code",
   "execution_count": null,
   "id": "3ced7ae0",
   "metadata": {},
   "outputs": [],
   "source": []
  }
 ],
 "metadata": {
  "kernelspec": {
   "display_name": "Python 3 (ipykernel)",
   "language": "python",
   "name": "python3"
  },
  "language_info": {
   "codemirror_mode": {
    "name": "ipython",
    "version": 3
   },
   "file_extension": ".py",
   "mimetype": "text/x-python",
   "name": "python",
   "nbconvert_exporter": "python",
   "pygments_lexer": "ipython3",
   "version": "3.11.4"
  }
 },
 "nbformat": 4,
 "nbformat_minor": 5
}
